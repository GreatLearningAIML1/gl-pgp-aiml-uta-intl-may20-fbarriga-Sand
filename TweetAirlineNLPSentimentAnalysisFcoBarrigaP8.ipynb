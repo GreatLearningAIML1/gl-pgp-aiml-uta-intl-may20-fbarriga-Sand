{
 "cells": [
  {
   "cell_type": "markdown",
   "metadata": {},
   "source": [
    "# Twitter US Airline Sentiment Analysis"
   ]
  },
  {
   "cell_type": "markdown",
   "metadata": {},
   "source": [
    "#### Data Description:\n",
    "A sentiment analysis job about the problems of each major U.S. airline. Twitter data was scraped from\n",
    "February of 2015 and contributors were asked to first classify positive, negative, and neutral tweets, followed\n",
    "by categorizing negative reasons (such as \"late flight\" or \"rude service\").\n",
    "#### Dataset:\n",
    "The project is from a dataset from Kaggle.\n",
    "Link to the Kaggle project site: https://www.kaggle.com/crowdflower/twitter-airline-sentiment\n",
    "The dataset has to be downloaded from the above Kaggle website.\n",
    "The dataset has several columns but we will focus on :\n",
    "    - airline_sentiment  (dependant variable)\n",
    "    - text (input text / tweets)\n",
    "#### Objective:\n",
    "Create a Classifier model that can distingush between Positive, neutral and negative sentiment, using the techniques learnt as a part of the course."
   ]
  },
  {
   "cell_type": "markdown",
   "metadata": {},
   "source": [
    "### 1. Import the libraries, load dataset, print shape of data, data description. (5 Marks)\n"
   ]
  },
  {
   "cell_type": "code",
   "execution_count": 1,
   "metadata": {},
   "outputs": [],
   "source": [
    "# Import necessary NLP preprocessing and common libraries\n",
    "import nltk, string, unicodedata, re\n",
    "from bs4 import BeautifulSoup\n",
    "from nltk import word_tokenize, sent_tokenize\n",
    "from nltk.corpus import stopwords, wordnet \n",
    "from nltk.stem import  WordNetLemmatizer\n",
    "import numpy as np\n",
    "import seaborn as sns\n",
    "import pandas as pd\n",
    "import matplotlib.pyplot as plt\n",
    "from matplotlib import pyplot as plt\n",
    "%matplotlib inline\n",
    "import warnings\n",
    "warnings.filterwarnings('ignore')"
   ]
  },
  {
   "cell_type": "code",
   "execution_count": 2,
   "metadata": {},
   "outputs": [],
   "source": [
    "# Load dataset.\n",
    "df = pd.read_csv('tweets.csv')"
   ]
  },
  {
   "cell_type": "code",
   "execution_count": 3,
   "metadata": {},
   "outputs": [
    {
     "data": {
      "text/plain": [
       "(14640, 15)"
      ]
     },
     "execution_count": 3,
     "metadata": {},
     "output_type": "execute_result"
    }
   ],
   "source": [
    "df.shape # 15 variables, 14640 datapoints"
   ]
  },
  {
   "cell_type": "code",
   "execution_count": 4,
   "metadata": {
    "scrolled": true
   },
   "outputs": [
    {
     "data": {
      "text/plain": [
       "tweet_id                          int64\n",
       "airline_sentiment                object\n",
       "airline_sentiment_confidence    float64\n",
       "negativereason                   object\n",
       "negativereason_confidence       float64\n",
       "airline                          object\n",
       "airline_sentiment_gold           object\n",
       "name                             object\n",
       "negativereason_gold              object\n",
       "retweet_count                     int64\n",
       "text                             object\n",
       "tweet_coord                      object\n",
       "tweet_created                    object\n",
       "tweet_location                   object\n",
       "user_timezone                    object\n",
       "dtype: object"
      ]
     },
     "execution_count": 4,
     "metadata": {},
     "output_type": "execute_result"
    }
   ],
   "source": [
    "df.dtypes # Undestanding the types of the columns"
   ]
  },
  {
   "cell_type": "code",
   "execution_count": 5,
   "metadata": {},
   "outputs": [
    {
     "data": {
      "text/html": [
       "<div>\n",
       "<style scoped>\n",
       "    .dataframe tbody tr th:only-of-type {\n",
       "        vertical-align: middle;\n",
       "    }\n",
       "\n",
       "    .dataframe tbody tr th {\n",
       "        vertical-align: top;\n",
       "    }\n",
       "\n",
       "    .dataframe thead th {\n",
       "        text-align: right;\n",
       "    }\n",
       "</style>\n",
       "<table border=\"1\" class=\"dataframe\">\n",
       "  <thead>\n",
       "    <tr style=\"text-align: right;\">\n",
       "      <th></th>\n",
       "      <th>count</th>\n",
       "      <th>unique</th>\n",
       "      <th>top</th>\n",
       "      <th>freq</th>\n",
       "      <th>mean</th>\n",
       "      <th>std</th>\n",
       "      <th>min</th>\n",
       "      <th>25%</th>\n",
       "      <th>50%</th>\n",
       "      <th>75%</th>\n",
       "      <th>max</th>\n",
       "    </tr>\n",
       "  </thead>\n",
       "  <tbody>\n",
       "    <tr>\n",
       "      <th>tweet_id</th>\n",
       "      <td>14640</td>\n",
       "      <td>NaN</td>\n",
       "      <td>NaN</td>\n",
       "      <td>NaN</td>\n",
       "      <td>5.69218e+17</td>\n",
       "      <td>7.79111e+14</td>\n",
       "      <td>5.67588e+17</td>\n",
       "      <td>5.68559e+17</td>\n",
       "      <td>5.69478e+17</td>\n",
       "      <td>5.6989e+17</td>\n",
       "      <td>5.70311e+17</td>\n",
       "    </tr>\n",
       "    <tr>\n",
       "      <th>airline_sentiment</th>\n",
       "      <td>14640</td>\n",
       "      <td>3</td>\n",
       "      <td>negative</td>\n",
       "      <td>9178</td>\n",
       "      <td>NaN</td>\n",
       "      <td>NaN</td>\n",
       "      <td>NaN</td>\n",
       "      <td>NaN</td>\n",
       "      <td>NaN</td>\n",
       "      <td>NaN</td>\n",
       "      <td>NaN</td>\n",
       "    </tr>\n",
       "    <tr>\n",
       "      <th>airline_sentiment_confidence</th>\n",
       "      <td>14640</td>\n",
       "      <td>NaN</td>\n",
       "      <td>NaN</td>\n",
       "      <td>NaN</td>\n",
       "      <td>0.900169</td>\n",
       "      <td>0.16283</td>\n",
       "      <td>0.335</td>\n",
       "      <td>0.6923</td>\n",
       "      <td>1</td>\n",
       "      <td>1</td>\n",
       "      <td>1</td>\n",
       "    </tr>\n",
       "    <tr>\n",
       "      <th>negativereason</th>\n",
       "      <td>9178</td>\n",
       "      <td>10</td>\n",
       "      <td>Customer Service Issue</td>\n",
       "      <td>2910</td>\n",
       "      <td>NaN</td>\n",
       "      <td>NaN</td>\n",
       "      <td>NaN</td>\n",
       "      <td>NaN</td>\n",
       "      <td>NaN</td>\n",
       "      <td>NaN</td>\n",
       "      <td>NaN</td>\n",
       "    </tr>\n",
       "    <tr>\n",
       "      <th>negativereason_confidence</th>\n",
       "      <td>10522</td>\n",
       "      <td>NaN</td>\n",
       "      <td>NaN</td>\n",
       "      <td>NaN</td>\n",
       "      <td>0.638298</td>\n",
       "      <td>0.33044</td>\n",
       "      <td>0</td>\n",
       "      <td>0.3606</td>\n",
       "      <td>0.6706</td>\n",
       "      <td>1</td>\n",
       "      <td>1</td>\n",
       "    </tr>\n",
       "    <tr>\n",
       "      <th>airline</th>\n",
       "      <td>14640</td>\n",
       "      <td>6</td>\n",
       "      <td>United</td>\n",
       "      <td>3822</td>\n",
       "      <td>NaN</td>\n",
       "      <td>NaN</td>\n",
       "      <td>NaN</td>\n",
       "      <td>NaN</td>\n",
       "      <td>NaN</td>\n",
       "      <td>NaN</td>\n",
       "      <td>NaN</td>\n",
       "    </tr>\n",
       "    <tr>\n",
       "      <th>airline_sentiment_gold</th>\n",
       "      <td>40</td>\n",
       "      <td>3</td>\n",
       "      <td>negative</td>\n",
       "      <td>32</td>\n",
       "      <td>NaN</td>\n",
       "      <td>NaN</td>\n",
       "      <td>NaN</td>\n",
       "      <td>NaN</td>\n",
       "      <td>NaN</td>\n",
       "      <td>NaN</td>\n",
       "      <td>NaN</td>\n",
       "    </tr>\n",
       "    <tr>\n",
       "      <th>name</th>\n",
       "      <td>14640</td>\n",
       "      <td>7701</td>\n",
       "      <td>JetBlueNews</td>\n",
       "      <td>63</td>\n",
       "      <td>NaN</td>\n",
       "      <td>NaN</td>\n",
       "      <td>NaN</td>\n",
       "      <td>NaN</td>\n",
       "      <td>NaN</td>\n",
       "      <td>NaN</td>\n",
       "      <td>NaN</td>\n",
       "    </tr>\n",
       "    <tr>\n",
       "      <th>negativereason_gold</th>\n",
       "      <td>32</td>\n",
       "      <td>13</td>\n",
       "      <td>Customer Service Issue</td>\n",
       "      <td>12</td>\n",
       "      <td>NaN</td>\n",
       "      <td>NaN</td>\n",
       "      <td>NaN</td>\n",
       "      <td>NaN</td>\n",
       "      <td>NaN</td>\n",
       "      <td>NaN</td>\n",
       "      <td>NaN</td>\n",
       "    </tr>\n",
       "    <tr>\n",
       "      <th>retweet_count</th>\n",
       "      <td>14640</td>\n",
       "      <td>NaN</td>\n",
       "      <td>NaN</td>\n",
       "      <td>NaN</td>\n",
       "      <td>0.0826503</td>\n",
       "      <td>0.745778</td>\n",
       "      <td>0</td>\n",
       "      <td>0</td>\n",
       "      <td>0</td>\n",
       "      <td>0</td>\n",
       "      <td>44</td>\n",
       "    </tr>\n",
       "    <tr>\n",
       "      <th>text</th>\n",
       "      <td>14640</td>\n",
       "      <td>14427</td>\n",
       "      <td>@united thanks</td>\n",
       "      <td>6</td>\n",
       "      <td>NaN</td>\n",
       "      <td>NaN</td>\n",
       "      <td>NaN</td>\n",
       "      <td>NaN</td>\n",
       "      <td>NaN</td>\n",
       "      <td>NaN</td>\n",
       "      <td>NaN</td>\n",
       "    </tr>\n",
       "    <tr>\n",
       "      <th>tweet_coord</th>\n",
       "      <td>1019</td>\n",
       "      <td>832</td>\n",
       "      <td>[0.0, 0.0]</td>\n",
       "      <td>164</td>\n",
       "      <td>NaN</td>\n",
       "      <td>NaN</td>\n",
       "      <td>NaN</td>\n",
       "      <td>NaN</td>\n",
       "      <td>NaN</td>\n",
       "      <td>NaN</td>\n",
       "      <td>NaN</td>\n",
       "    </tr>\n",
       "    <tr>\n",
       "      <th>tweet_created</th>\n",
       "      <td>14640</td>\n",
       "      <td>14247</td>\n",
       "      <td>2015-02-24 09:54:34 -0800</td>\n",
       "      <td>5</td>\n",
       "      <td>NaN</td>\n",
       "      <td>NaN</td>\n",
       "      <td>NaN</td>\n",
       "      <td>NaN</td>\n",
       "      <td>NaN</td>\n",
       "      <td>NaN</td>\n",
       "      <td>NaN</td>\n",
       "    </tr>\n",
       "    <tr>\n",
       "      <th>tweet_location</th>\n",
       "      <td>9907</td>\n",
       "      <td>3081</td>\n",
       "      <td>Boston, MA</td>\n",
       "      <td>157</td>\n",
       "      <td>NaN</td>\n",
       "      <td>NaN</td>\n",
       "      <td>NaN</td>\n",
       "      <td>NaN</td>\n",
       "      <td>NaN</td>\n",
       "      <td>NaN</td>\n",
       "      <td>NaN</td>\n",
       "    </tr>\n",
       "    <tr>\n",
       "      <th>user_timezone</th>\n",
       "      <td>9820</td>\n",
       "      <td>85</td>\n",
       "      <td>Eastern Time (US &amp; Canada)</td>\n",
       "      <td>3744</td>\n",
       "      <td>NaN</td>\n",
       "      <td>NaN</td>\n",
       "      <td>NaN</td>\n",
       "      <td>NaN</td>\n",
       "      <td>NaN</td>\n",
       "      <td>NaN</td>\n",
       "      <td>NaN</td>\n",
       "    </tr>\n",
       "  </tbody>\n",
       "</table>\n",
       "</div>"
      ],
      "text/plain": [
       "                              count unique                         top  freq  \\\n",
       "tweet_id                      14640    NaN                         NaN   NaN   \n",
       "airline_sentiment             14640      3                    negative  9178   \n",
       "airline_sentiment_confidence  14640    NaN                         NaN   NaN   \n",
       "negativereason                 9178     10      Customer Service Issue  2910   \n",
       "negativereason_confidence     10522    NaN                         NaN   NaN   \n",
       "airline                       14640      6                      United  3822   \n",
       "airline_sentiment_gold           40      3                    negative    32   \n",
       "name                          14640   7701                 JetBlueNews    63   \n",
       "negativereason_gold              32     13      Customer Service Issue    12   \n",
       "retweet_count                 14640    NaN                         NaN   NaN   \n",
       "text                          14640  14427              @united thanks     6   \n",
       "tweet_coord                    1019    832                  [0.0, 0.0]   164   \n",
       "tweet_created                 14640  14247   2015-02-24 09:54:34 -0800     5   \n",
       "tweet_location                 9907   3081                  Boston, MA   157   \n",
       "user_timezone                  9820     85  Eastern Time (US & Canada)  3744   \n",
       "\n",
       "                                     mean          std          min  \\\n",
       "tweet_id                      5.69218e+17  7.79111e+14  5.67588e+17   \n",
       "airline_sentiment                     NaN          NaN          NaN   \n",
       "airline_sentiment_confidence     0.900169      0.16283        0.335   \n",
       "negativereason                        NaN          NaN          NaN   \n",
       "negativereason_confidence        0.638298      0.33044            0   \n",
       "airline                               NaN          NaN          NaN   \n",
       "airline_sentiment_gold                NaN          NaN          NaN   \n",
       "name                                  NaN          NaN          NaN   \n",
       "negativereason_gold                   NaN          NaN          NaN   \n",
       "retweet_count                   0.0826503     0.745778            0   \n",
       "text                                  NaN          NaN          NaN   \n",
       "tweet_coord                           NaN          NaN          NaN   \n",
       "tweet_created                         NaN          NaN          NaN   \n",
       "tweet_location                        NaN          NaN          NaN   \n",
       "user_timezone                         NaN          NaN          NaN   \n",
       "\n",
       "                                      25%          50%         75%  \\\n",
       "tweet_id                      5.68559e+17  5.69478e+17  5.6989e+17   \n",
       "airline_sentiment                     NaN          NaN         NaN   \n",
       "airline_sentiment_confidence       0.6923            1           1   \n",
       "negativereason                        NaN          NaN         NaN   \n",
       "negativereason_confidence          0.3606       0.6706           1   \n",
       "airline                               NaN          NaN         NaN   \n",
       "airline_sentiment_gold                NaN          NaN         NaN   \n",
       "name                                  NaN          NaN         NaN   \n",
       "negativereason_gold                   NaN          NaN         NaN   \n",
       "retweet_count                           0            0           0   \n",
       "text                                  NaN          NaN         NaN   \n",
       "tweet_coord                           NaN          NaN         NaN   \n",
       "tweet_created                         NaN          NaN         NaN   \n",
       "tweet_location                        NaN          NaN         NaN   \n",
       "user_timezone                         NaN          NaN         NaN   \n",
       "\n",
       "                                      max  \n",
       "tweet_id                      5.70311e+17  \n",
       "airline_sentiment                     NaN  \n",
       "airline_sentiment_confidence            1  \n",
       "negativereason                        NaN  \n",
       "negativereason_confidence               1  \n",
       "airline                               NaN  \n",
       "airline_sentiment_gold                NaN  \n",
       "name                                  NaN  \n",
       "negativereason_gold                   NaN  \n",
       "retweet_count                          44  \n",
       "text                                  NaN  \n",
       "tweet_coord                           NaN  \n",
       "tweet_created                         NaN  \n",
       "tweet_location                        NaN  \n",
       "user_timezone                         NaN  "
      ]
     },
     "execution_count": 5,
     "metadata": {},
     "output_type": "execute_result"
    }
   ],
   "source": [
    "df.describe(include='all').transpose() # Obtaining description of variables, to understand the data."
   ]
  },
  {
   "cell_type": "markdown",
   "metadata": {},
   "source": [
    "Only 4 columns are numeric the rest (11) are categoric or text\n",
    "As per the problem statement, we will use only two variables: the text of the tweets and the sentiment, to be able to train the model(s)"
   ]
  },
  {
   "cell_type": "code",
   "execution_count": 6,
   "metadata": {},
   "outputs": [
    {
     "data": {
      "text/html": [
       "<div>\n",
       "<style scoped>\n",
       "    .dataframe tbody tr th:only-of-type {\n",
       "        vertical-align: middle;\n",
       "    }\n",
       "\n",
       "    .dataframe tbody tr th {\n",
       "        vertical-align: top;\n",
       "    }\n",
       "\n",
       "    .dataframe thead th {\n",
       "        text-align: right;\n",
       "    }\n",
       "</style>\n",
       "<table border=\"1\" class=\"dataframe\">\n",
       "  <thead>\n",
       "    <tr style=\"text-align: right;\">\n",
       "      <th></th>\n",
       "      <th>tweet_id</th>\n",
       "      <th>airline_sentiment</th>\n",
       "      <th>airline_sentiment_confidence</th>\n",
       "      <th>negativereason</th>\n",
       "      <th>negativereason_confidence</th>\n",
       "      <th>airline</th>\n",
       "      <th>airline_sentiment_gold</th>\n",
       "      <th>name</th>\n",
       "      <th>negativereason_gold</th>\n",
       "      <th>retweet_count</th>\n",
       "      <th>text</th>\n",
       "      <th>tweet_coord</th>\n",
       "      <th>tweet_created</th>\n",
       "      <th>tweet_location</th>\n",
       "      <th>user_timezone</th>\n",
       "    </tr>\n",
       "  </thead>\n",
       "  <tbody>\n",
       "    <tr>\n",
       "      <th>0</th>\n",
       "      <td>570306133677760513</td>\n",
       "      <td>neutral</td>\n",
       "      <td>1.0000</td>\n",
       "      <td>NaN</td>\n",
       "      <td>NaN</td>\n",
       "      <td>Virgin America</td>\n",
       "      <td>NaN</td>\n",
       "      <td>cairdin</td>\n",
       "      <td>NaN</td>\n",
       "      <td>0</td>\n",
       "      <td>@VirginAmerica What @dhepburn said.</td>\n",
       "      <td>NaN</td>\n",
       "      <td>2015-02-24 11:35:52 -0800</td>\n",
       "      <td>NaN</td>\n",
       "      <td>Eastern Time (US &amp; Canada)</td>\n",
       "    </tr>\n",
       "    <tr>\n",
       "      <th>1</th>\n",
       "      <td>570301130888122368</td>\n",
       "      <td>positive</td>\n",
       "      <td>0.3486</td>\n",
       "      <td>NaN</td>\n",
       "      <td>0.0000</td>\n",
       "      <td>Virgin America</td>\n",
       "      <td>NaN</td>\n",
       "      <td>jnardino</td>\n",
       "      <td>NaN</td>\n",
       "      <td>0</td>\n",
       "      <td>@VirginAmerica plus you've added commercials t...</td>\n",
       "      <td>NaN</td>\n",
       "      <td>2015-02-24 11:15:59 -0800</td>\n",
       "      <td>NaN</td>\n",
       "      <td>Pacific Time (US &amp; Canada)</td>\n",
       "    </tr>\n",
       "    <tr>\n",
       "      <th>2</th>\n",
       "      <td>570301083672813571</td>\n",
       "      <td>neutral</td>\n",
       "      <td>0.6837</td>\n",
       "      <td>NaN</td>\n",
       "      <td>NaN</td>\n",
       "      <td>Virgin America</td>\n",
       "      <td>NaN</td>\n",
       "      <td>yvonnalynn</td>\n",
       "      <td>NaN</td>\n",
       "      <td>0</td>\n",
       "      <td>@VirginAmerica I didn't today... Must mean I n...</td>\n",
       "      <td>NaN</td>\n",
       "      <td>2015-02-24 11:15:48 -0800</td>\n",
       "      <td>Lets Play</td>\n",
       "      <td>Central Time (US &amp; Canada)</td>\n",
       "    </tr>\n",
       "    <tr>\n",
       "      <th>3</th>\n",
       "      <td>570301031407624196</td>\n",
       "      <td>negative</td>\n",
       "      <td>1.0000</td>\n",
       "      <td>Bad Flight</td>\n",
       "      <td>0.7033</td>\n",
       "      <td>Virgin America</td>\n",
       "      <td>NaN</td>\n",
       "      <td>jnardino</td>\n",
       "      <td>NaN</td>\n",
       "      <td>0</td>\n",
       "      <td>@VirginAmerica it's really aggressive to blast...</td>\n",
       "      <td>NaN</td>\n",
       "      <td>2015-02-24 11:15:36 -0800</td>\n",
       "      <td>NaN</td>\n",
       "      <td>Pacific Time (US &amp; Canada)</td>\n",
       "    </tr>\n",
       "    <tr>\n",
       "      <th>4</th>\n",
       "      <td>570300817074462722</td>\n",
       "      <td>negative</td>\n",
       "      <td>1.0000</td>\n",
       "      <td>Can't Tell</td>\n",
       "      <td>1.0000</td>\n",
       "      <td>Virgin America</td>\n",
       "      <td>NaN</td>\n",
       "      <td>jnardino</td>\n",
       "      <td>NaN</td>\n",
       "      <td>0</td>\n",
       "      <td>@VirginAmerica and it's a really big bad thing...</td>\n",
       "      <td>NaN</td>\n",
       "      <td>2015-02-24 11:14:45 -0800</td>\n",
       "      <td>NaN</td>\n",
       "      <td>Pacific Time (US &amp; Canada)</td>\n",
       "    </tr>\n",
       "  </tbody>\n",
       "</table>\n",
       "</div>"
      ],
      "text/plain": [
       "             tweet_id airline_sentiment  airline_sentiment_confidence  \\\n",
       "0  570306133677760513           neutral                        1.0000   \n",
       "1  570301130888122368          positive                        0.3486   \n",
       "2  570301083672813571           neutral                        0.6837   \n",
       "3  570301031407624196          negative                        1.0000   \n",
       "4  570300817074462722          negative                        1.0000   \n",
       "\n",
       "  negativereason  negativereason_confidence         airline  \\\n",
       "0            NaN                        NaN  Virgin America   \n",
       "1            NaN                     0.0000  Virgin America   \n",
       "2            NaN                        NaN  Virgin America   \n",
       "3     Bad Flight                     0.7033  Virgin America   \n",
       "4     Can't Tell                     1.0000  Virgin America   \n",
       "\n",
       "  airline_sentiment_gold        name negativereason_gold  retweet_count  \\\n",
       "0                    NaN     cairdin                 NaN              0   \n",
       "1                    NaN    jnardino                 NaN              0   \n",
       "2                    NaN  yvonnalynn                 NaN              0   \n",
       "3                    NaN    jnardino                 NaN              0   \n",
       "4                    NaN    jnardino                 NaN              0   \n",
       "\n",
       "                                                text tweet_coord  \\\n",
       "0                @VirginAmerica What @dhepburn said.         NaN   \n",
       "1  @VirginAmerica plus you've added commercials t...         NaN   \n",
       "2  @VirginAmerica I didn't today... Must mean I n...         NaN   \n",
       "3  @VirginAmerica it's really aggressive to blast...         NaN   \n",
       "4  @VirginAmerica and it's a really big bad thing...         NaN   \n",
       "\n",
       "               tweet_created tweet_location               user_timezone  \n",
       "0  2015-02-24 11:35:52 -0800            NaN  Eastern Time (US & Canada)  \n",
       "1  2015-02-24 11:15:59 -0800            NaN  Pacific Time (US & Canada)  \n",
       "2  2015-02-24 11:15:48 -0800      Lets Play  Central Time (US & Canada)  \n",
       "3  2015-02-24 11:15:36 -0800            NaN  Pacific Time (US & Canada)  \n",
       "4  2015-02-24 11:14:45 -0800            NaN  Pacific Time (US & Canada)  "
      ]
     },
     "execution_count": 6,
     "metadata": {},
     "output_type": "execute_result"
    }
   ],
   "source": [
    "df.head() # visualizing the firt 5 rows"
   ]
  },
  {
   "cell_type": "code",
   "execution_count": 7,
   "metadata": {},
   "outputs": [
    {
     "name": "stdout",
     "output_type": "stream",
     "text": [
      "AxesSubplot(0.125,0.125;0.775x0.755)\n"
     ]
    },
    {
     "data": {
      "text/plain": [
       "negative    9178\n",
       "neutral     3099\n",
       "positive    2363\n",
       "Name: airline_sentiment, dtype: int64"
      ]
     },
     "execution_count": 7,
     "metadata": {},
     "output_type": "execute_result"
    },
    {
     "data": {
      "image/png": "[encoded data removed]",
      "text/plain": [
       "<Figure size 432x288 with 1 Axes>"
      ]
     },
     "metadata": {
      "needs_background": "light"
     },
     "output_type": "display_data"
    }
   ],
   "source": [
    "# Taking a look at the output variable \"airline_sentiment\" to see if it is imbalanced\n",
    "y = df[\"airline_sentiment\"] # array for ploting \n",
    "print(sns.countplot(y=df['airline_sentiment']))\n",
    "df.airline_sentiment.value_counts()"
   ]
  },
  {
   "cell_type": "markdown",
   "metadata": {},
   "source": [
    "The dependant variable is not perfectly balanced, but we can work with it as it is."
   ]
  },
  {
   "cell_type": "markdown",
   "metadata": {},
   "source": [
    "### 2. Understand of data-columns: (5 Marks)\n",
    "a. Drop all other columns except “text” and “airline_sentiment”.\n",
    "b. Check the shape of data.\n",
    "c. Print first 5 rows of data.\n"
   ]
  },
  {
   "cell_type": "code",
   "execution_count": 8,
   "metadata": {},
   "outputs": [],
   "source": [
    "df2=df.copy(deep=True)  #  Making a working copy of the data set"
   ]
  },
  {
   "cell_type": "code",
   "execution_count": 9,
   "metadata": {},
   "outputs": [
    {
     "data": {
      "text/plain": [
       "en    14457\n",
       "fr       66\n",
       "af       27\n",
       "da       23\n",
       "it       11\n",
       "so        8\n",
       "cy        7\n",
       "nl        6\n",
       "de        5\n",
       "et        4\n",
       "tr        4\n",
       "ro        4\n",
       "id        4\n",
       "no        3\n",
       "tl        3\n",
       "es        3\n",
       "fi        2\n",
       "pt        1\n",
       "pl        1\n",
       "sv        1\n",
       "Name: Language, dtype: int64"
      ]
     },
     "execution_count": 9,
     "metadata": {},
     "output_type": "execute_result"
    }
   ],
   "source": [
    "# Analizing how many languages are present in the dataset  and how many tweets for each Language\n",
    "from langdetect import detect  \n",
    "df2['Language'] = \"\"\n",
    "for i, desc in enumerate(df2['text']):\n",
    "    try:\n",
    "        df2['Language'][i] = detect(desc)\n",
    "    except:\n",
    "        df2['Language'][i] = 'unknown'\n",
    "df2['Language'].value_counts()   "
   ]
  },
  {
   "cell_type": "markdown",
   "metadata": {},
   "source": [
    "The count of tweets in other languages is less than 2%, so we can eliminate the other languages for accuracy."
   ]
  },
  {
   "cell_type": "code",
   "execution_count": 10,
   "metadata": {},
   "outputs": [],
   "source": [
    "# Making another copy and droping all columns except Sentiment, the tweet text (and the language)\n",
    "df3=df2.drop(['airline_sentiment_confidence', 'negativereason', 'negativereason_confidence', 'airline', 'airline_sentiment_gold', 'name', 'negativereason_gold','retweet_count','tweet_coord','tweet_created','tweet_location',\n",
    "              'tweet_id', 'user_timezone'],axis=1)# droping all other columns except “text” and “airline_sentiment”"
   ]
  },
  {
   "cell_type": "code",
   "execution_count": 11,
   "metadata": {},
   "outputs": [],
   "source": [
    "# Select only those tweets in English language - my objective is to increase accuracy , using only english libraries\n",
    "df4=df3[df3[\"Language\"]=='en'] # filtering only English tweets\n",
    "df5=df4.drop(['Language'],axis=1)  # dropping all other input variables except the text of tweets and the sentiment"
   ]
  },
  {
   "cell_type": "code",
   "execution_count": 12,
   "metadata": {},
   "outputs": [
    {
     "data": {
      "text/plain": [
       "(14457, 2)"
      ]
     },
     "execution_count": 12,
     "metadata": {},
     "output_type": "execute_result"
    }
   ],
   "source": [
    "df5.shape "
   ]
  },
  {
   "cell_type": "code",
   "execution_count": 13,
   "metadata": {},
   "outputs": [
    {
     "data": {
      "text/plain": [
       "airline_sentiment    0\n",
       "text                 0\n",
       "dtype: int64"
      ]
     },
     "execution_count": 13,
     "metadata": {},
     "output_type": "execute_result"
    }
   ],
   "source": [
    "df5.isnull().isnull().sum() # Check for null values"
   ]
  },
  {
   "cell_type": "code",
   "execution_count": 14,
   "metadata": {
    "scrolled": true
   },
   "outputs": [
    {
     "name": "stdout",
     "output_type": "stream",
     "text": [
      "  airline_sentiment                                               text\n",
      "0           neutral                @VirginAmerica What @dhepburn said.\n",
      "1          positive  @VirginAmerica plus you've added commercials t...\n",
      "2           neutral  @VirginAmerica I didn't today... Must mean I n...\n",
      "3          negative  @VirginAmerica it's really aggressive to blast...\n",
      "4          negative  @VirginAmerica and it's a really big bad thing...\n"
     ]
    }
   ],
   "source": [
    "print(df5.head(5)) # printing first 5 rows of data before preprocessing"
   ]
  },
  {
   "cell_type": "code",
   "execution_count": 15,
   "metadata": {},
   "outputs": [],
   "source": [
    "from wordcloud import WordCloud  # want to see the most used words\n",
    "def generate_wordcloud(words, name, max_w=20):\n",
    "    wc = WordCloud(width=400, height=400, max_font_size=40, min_font_size=6, max_words=max_w, colormap='Set1',collocations=True).generate(words)\n",
    "    plt.figure(figsize=(20,10))\n",
    "    plt.imshow(wc, interpolation=\"bilinear\")\n",
    "    plt.axis(\"off\")\n",
    "    plt.title(\"Most common {} words of {}\".format(max_w,name))\n",
    "    plt.margins(x=0, y=0)\n",
    "    plt.show()"
   ]
  },
  {
   "cell_type": "code",
   "execution_count": 16,
   "metadata": {},
   "outputs": [
    {
     "data": {
      "image/png": "[encoded data removed]",
      "text/plain": [
       "<Figure size 1440x720 with 1 Axes>"
      ]
     },
     "metadata": {
      "needs_background": "light"
     },
     "output_type": "display_data"
    }
   ],
   "source": [
    "full_text = ' '.join(list(df5['text']))\n",
    "generate_wordcloud(full_text, 'the corpus', 50)"
   ]
  },
  {
   "cell_type": "markdown",
   "metadata": {},
   "source": [
    "Obviously the names of the airlines are predominant, but also the words Flight, Waiting, Cancelled, Delayed, \n",
    "curiously, the word 'Thank' is also predominant, so we expect the prediction to be as balanced as the dependant variable. We can also expect more tweets about United, than VirginAmerica airlines."
   ]
  },
  {
   "cell_type": "markdown",
   "metadata": {},
   "source": [
    "### 3. Text pre-processing: Data preparation. (20 Marks)\n",
    "a. Html tag removal.\n",
    "b. Tokenization.\n",
    "c. Remove the numbers.\n",
    "d. Removal of Special Characters and Punctuations.\n",
    "e. Conversion to lowercase.\n",
    "f. Lemmatize or stemming.\n",
    "g. Join the words in the list to convert back to text string in the dataframe. (So that each row\n",
    "contains the data in text format.)\n",
    "h. Print first 5 rows of data after pre-processing.\n"
   ]
  },
  {
   "cell_type": "code",
   "execution_count": 17,
   "metadata": {},
   "outputs": [],
   "source": [
    "# Html tags removal:\n",
    "def strip_html(text):\n",
    "    soup = BeautifulSoup(text, \"html.parser\")\n",
    "    return soup.get_text()\n",
    "df5['text'] = df5['text'].apply(lambda x: strip_html(x))\n",
    "#df5.head()"
   ]
  },
  {
   "cell_type": "code",
   "execution_count": 18,
   "metadata": {},
   "outputs": [],
   "source": [
    "# numbers (digits) removal:\n",
    "def remove_numbers(text):\n",
    "    text = re.sub(r'\\d+', '', text)\n",
    "    return text\n",
    "df5['text'] = df5['text'].apply(lambda x: remove_numbers(x))\n",
    "#df5.head()"
   ]
  },
  {
   "cell_type": "code",
   "execution_count": 19,
   "metadata": {},
   "outputs": [],
   "source": [
    "pd.set_option('display.max_colwidth', None)\n",
    "lemmatizer = WordNetLemmatizer() # I choose to do lemmatizing instead of stemming\n"
   ]
  },
  {
   "cell_type": "code",
   "execution_count": 20,
   "metadata": {},
   "outputs": [
    {
     "data": {
      "text/html": [
       "<div>\n",
       "<style scoped>\n",
       "    .dataframe tbody tr th:only-of-type {\n",
       "        vertical-align: middle;\n",
       "    }\n",
       "\n",
       "    .dataframe tbody tr th {\n",
       "        vertical-align: top;\n",
       "    }\n",
       "\n",
       "    .dataframe thead th {\n",
       "        text-align: right;\n",
       "    }\n",
       "</style>\n",
       "<table border=\"1\" class=\"dataframe\">\n",
       "  <thead>\n",
       "    <tr style=\"text-align: right;\">\n",
       "      <th></th>\n",
       "      <th>airline_sentiment</th>\n",
       "      <th>text</th>\n",
       "    </tr>\n",
       "  </thead>\n",
       "  <tbody>\n",
       "    <tr>\n",
       "      <th>0</th>\n",
       "      <td>neutral</td>\n",
       "      <td>@VirginAmerica What said.</td>\n",
       "    </tr>\n",
       "    <tr>\n",
       "      <th>1</th>\n",
       "      <td>positive</td>\n",
       "      <td>@VirginAmerica plus you've added commercials to the experience... tacky.</td>\n",
       "    </tr>\n",
       "    <tr>\n",
       "      <th>2</th>\n",
       "      <td>neutral</td>\n",
       "      <td>@VirginAmerica I didn't today... mean I need to take another trip!</td>\n",
       "    </tr>\n",
       "    <tr>\n",
       "      <th>3</th>\n",
       "      <td>negative</td>\n",
       "      <td>@VirginAmerica it's really aggressive to blast obnoxious \"entertainment\" in your guests' faces &amp; they have little recourse</td>\n",
       "    </tr>\n",
       "    <tr>\n",
       "      <th>4</th>\n",
       "      <td>negative</td>\n",
       "      <td>@VirginAmerica and it's a really big bad thing about it</td>\n",
       "    </tr>\n",
       "  </tbody>\n",
       "</table>\n",
       "</div>"
      ],
      "text/plain": [
       "  airline_sentiment  \\\n",
       "0           neutral   \n",
       "1          positive   \n",
       "2           neutral   \n",
       "3          negative   \n",
       "4          negative   \n",
       "\n",
       "                                                                                                                         text  \n",
       "0                                                                                                   @VirginAmerica What said.  \n",
       "1                                                    @VirginAmerica plus you've added commercials to the experience... tacky.  \n",
       "2                                                          @VirginAmerica I didn't today... mean I need to take another trip!  \n",
       "3  @VirginAmerica it's really aggressive to blast obnoxious \"entertainment\" in your guests' faces & they have little recourse  \n",
       "4                                                                     @VirginAmerica and it's a really big bad thing about it  "
      ]
     },
     "execution_count": 20,
     "metadata": {},
     "output_type": "execute_result"
    }
   ],
   "source": [
    "# Proper noun removal:\n",
    "for i, row in df5.iterrows(): \n",
    "    sentence=df5.at[i,'text']\n",
    "    tagged_sentence = nltk.tag.pos_tag(sentence.split())\n",
    "    edited_sentence = [word for word,tag in tagged_sentence if tag != 'NNP' and tag != 'NNPS']\n",
    "    df5.at[i,'text']=(' '.join(edited_sentence)) \n",
    "df5.head()"
   ]
  },
  {
   "cell_type": "code",
   "execution_count": 21,
   "metadata": {},
   "outputs": [],
   "source": [
    "# Set my own custom stop-word's list: (to be used inside the following function)\n",
    "stops = stopwords.words('english')  \n",
    "customlist = ['not', \"couldn't\", 'didn', \"didn't\", 'doesn', \"doesn't\", 'hadn', \"hadn't\", 'hasn',\n",
    "        \"hasn't\", 'haven', \"haven't\", 'isn', \"isn't\", 'ma', 'mightn', \"mightn't\", 'mustn',\n",
    "        \"mustn't\", 'needn', \"needn't\", 'shan', \"shan't\", 'shouldn', \"shouldn't\", 'wasn',\n",
    "        \"wasn't\", 'weren', \"weren't\", 'won', \"won't\", 'wouldn', \"wouldn't\"]\n",
    "stops = list(set(stops) - set(customlist)) "
   ]
  },
  {
   "cell_type": "code",
   "execution_count": 22,
   "metadata": {},
   "outputs": [],
   "source": [
    "# This function helps to perform HTML tgs removal, tokenize, remove all charscters that are not letters\n",
    "# are not letters (hence, removing numbers, special characters and punctuations). Also removes \n",
    "# stopwords in English. As we are separating the sentences in words, we are basically tokenizing again\n",
    "# The input is a single string (a raw tweet), and the output is a single string (a preprocessed tweet)\n",
    "def prepro(rawTweet, stpwrds):\n",
    "    noHtml = BeautifulSoup(rawTweet).get_text() # a. Removing HTML\n",
    "    tken = nltk.word_tokenize(noHtml)\n",
    "    onlyLet = re.sub(\"[^a-zA-Z]\", \" \", str(tken)) # Removing all characters except letters\n",
    "    lowers = onlyLet.lower().split()   # Transforming letters to lowercases                          \n",
    "    noStops = [w for w in lowers if not w in stpwrds]   \n",
    "    lemmas = [lemmatizer.lemmatize(word) for word in noStops]\n",
    "    return( \" \".join( lemmas ))  # Join the words back to the string"
   ]
  },
  {
   "cell_type": "code",
   "execution_count": 23,
   "metadata": {},
   "outputs": [
    {
     "name": "stdout",
     "output_type": "stream",
     "text": [
      "virginamerica seriously would pay flight seat n playing really bad thing flying\n"
     ]
    }
   ],
   "source": [
    "preproTweet = prepro( df5[\"text\"][5], stops )  # testing the function\n",
    "print (preproTweet)"
   ]
  },
  {
   "cell_type": "code",
   "execution_count": 24,
   "metadata": {},
   "outputs": [],
   "source": [
    "#  Run prepro function over the entire dataset\n",
    "df5=df5.reset_index(drop=True)\n",
    "numTweets = df5[\"text\"].size\n",
    "cleanTweets = []\n",
    "for i in range( 0, numTweets ):     # Looping thru the entire dataframe\n",
    "    cleanTweets.append( prepro( (str(df5[\"text\"][i])), stops ) )  # preprocessing each row"
   ]
  },
  {
   "cell_type": "code",
   "execution_count": 25,
   "metadata": {},
   "outputs": [
    {
     "data": {
      "text/plain": [
       "['virginamerica said',\n",
       " 'virginamerica plus added commercial experience tacky',\n",
       " 'virginamerica n today mean need take another trip',\n",
       " 'virginamerica really aggressive blast obnoxious entertainment guest face little recourse',\n",
       " 'virginamerica really big bad thing']"
      ]
     },
     "execution_count": 25,
     "metadata": {},
     "output_type": "execute_result"
    }
   ],
   "source": [
    "cleanTweets[:5]   # Printing first 5 rows of data after preprocessing"
   ]
  },
  {
   "cell_type": "markdown",
   "metadata": {},
   "source": [
    "### 4. Vectorization: (10 Marks)\n",
    "a. Use CountVectorizer.\n",
    "b. Use TfidfVectorizer.\n"
   ]
  },
  {
   "cell_type": "code",
   "execution_count": 26,
   "metadata": {},
   "outputs": [],
   "source": [
    "from sklearn.feature_extraction.text import CountVectorizer          #  opening vectorizing libraries\n",
    "from sklearn.feature_extraction.text import TfidfVectorizer  "
   ]
  },
  {
   "cell_type": "code",
   "execution_count": 27,
   "metadata": {},
   "outputs": [],
   "source": [
    "# Using Count-vectorizing\n",
    "vectorizer = CountVectorizer(analyzer = \"word\",   \\\n",
    "                             tokenizer = None,    \\\n",
    "                             preprocessor = None, \\\n",
    "                             stop_words = None,   \\\n",
    "                             max_features = 10000) \n",
    "trainTweets1 = vectorizer.fit_transform(cleanTweets)\n",
    "trainTweets1 = trainTweets1.toarray() # output to 1st set of data"
   ]
  },
  {
   "cell_type": "code",
   "execution_count": 28,
   "metadata": {},
   "outputs": [
    {
     "name": "stdout",
     "output_type": "stream",
     "text": [
      "(14457, 10000)\n"
     ]
    }
   ],
   "source": [
    "print (trainTweets1.shape)"
   ]
  },
  {
   "cell_type": "code",
   "execution_count": 29,
   "metadata": {},
   "outputs": [],
   "source": [
    "# TF-IDF Vectorizing \n",
    "vectorizer = TfidfVectorizer()\n",
    "trainTweets2 = vectorizer.fit_transform(cleanTweets)  # Output to '2nd set of data'\n"
   ]
  },
  {
   "cell_type": "code",
   "execution_count": 30,
   "metadata": {},
   "outputs": [
    {
     "name": "stdout",
     "output_type": "stream",
     "text": [
      "(14457, 10152)\n"
     ]
    }
   ],
   "source": [
    "print (trainTweets2.shape)"
   ]
  },
  {
   "cell_type": "code",
   "execution_count": 31,
   "metadata": {},
   "outputs": [],
   "source": [
    "# Onehot encoding of target variable: Negative = [1,0,0], Neutral = [0,1,0], Positive = [0,0,1]\n",
    "from sklearn.preprocessing import OneHotEncoder\n",
    "onehot_encoder = OneHotEncoder(sparse=False)\n",
    "intEnc_train = np.array(df5[\"airline_sentiment\"]).reshape(len(df5[\"airline_sentiment\"]), 1)\n",
    "OHE_train = onehot_encoder.fit_transform(intEnc_train)"
   ]
  },
  {
   "cell_type": "code",
   "execution_count": 32,
   "metadata": {},
   "outputs": [
    {
     "data": {
      "text/plain": [
       "array([[0., 1., 0.],\n",
       "       [0., 0., 1.],\n",
       "       [0., 1., 0.],\n",
       "       ...,\n",
       "       [0., 1., 0.],\n",
       "       [1., 0., 0.],\n",
       "       [0., 1., 0.]])"
      ]
     },
     "execution_count": 32,
     "metadata": {},
     "output_type": "execute_result"
    }
   ],
   "source": [
    "OHE_train  # displaying how the dependant variable(s) look now:"
   ]
  },
  {
   "cell_type": "code",
   "execution_count": 33,
   "metadata": {},
   "outputs": [],
   "source": [
    "# importing additional libraries for preparing the data and to run clasifier model\n",
    "from sklearn.model_selection import train_test_split\n",
    "from sklearn.tree import DecisionTreeClassifier\n",
    "from sklearn.ensemble import RandomForestClassifier\n",
    "from sklearn.model_selection import cross_val_score\n",
    "from sklearn.metrics import accuracy_score"
   ]
  },
  {
   "cell_type": "code",
   "execution_count": 34,
   "metadata": {},
   "outputs": [],
   "source": [
    "# Spliting train and test data for neural network using Countvectorizing data\n",
    "from sklearn.model_selection import train_test_split\n",
    "X1_train, X1_test, y1_train, y1_test = train_test_split(trainTweets1, # all \n",
    "                                                  OHE_train, \n",
    "                                                  test_size=0.2, \n",
    "                                                  random_state=33)\n"
   ]
  },
  {
   "cell_type": "code",
   "execution_count": 35,
   "metadata": {},
   "outputs": [
    {
     "name": "stdout",
     "output_type": "stream",
     "text": [
      "Training Shapes: X1_train= (11565, 10000)  y1_train =  (11565, 3)\n",
      "Test Shapes: X1_test= (2892, 10000)  y1_test =  (2892, 3)\n"
     ]
    }
   ],
   "source": [
    "print('Training Shapes: X1_train=',X1_train.shape,' y1_train = ',y1_train.shape)\n",
    "print('Test Shapes: X1_test=',X1_test.shape,' y1_test = ',y1_test.shape)"
   ]
  },
  {
   "cell_type": "code",
   "execution_count": 36,
   "metadata": {},
   "outputs": [],
   "source": [
    "# Spliting train and test data for neural network using TF-IDF vectorizing data\n",
    "from sklearn.model_selection import train_test_split\n",
    "X2_train, X2_test, y2_train, y2_test = train_test_split(trainTweets2, \n",
    "                                                  OHE_train, \n",
    "                                                  test_size=0.2, \n",
    "                                                  random_state=33)"
   ]
  },
  {
   "cell_type": "code",
   "execution_count": 37,
   "metadata": {},
   "outputs": [
    {
     "name": "stdout",
     "output_type": "stream",
     "text": [
      "Training Shapes: X2_train= (11565, 10152)  y2_train =  (11565, 3)\n",
      "Test Shapes: X2_test= (2892, 10152)  y2_test =  (2892, 3)\n"
     ]
    }
   ],
   "source": [
    "print('Training Shapes: X2_train=',X2_train.shape,' y2_train = ',y2_train.shape)\n",
    "print('Test Shapes: X2_test=',X2_test.shape,' y2_test = ',y2_test.shape)"
   ]
  },
  {
   "cell_type": "markdown",
   "metadata": {},
   "source": [
    "### 5. Fit and evaluate model using both type of vectorization. (6+6 Marks)\n"
   ]
  },
  {
   "cell_type": "markdown",
   "metadata": {},
   "source": [
    "#### I will compare : \n",
    "    - Random Forest  using CountVectorize data \n",
    "    - Random Forest  using tfidfVectorize data\n",
    "    - Neural Network using CountVectorize data \n",
    "    - Neural Network using tfidfVectorize data"
   ]
  },
  {
   "cell_type": "code",
   "execution_count": 38,
   "metadata": {
    "scrolled": true
   },
   "outputs": [
    {
     "name": "stderr",
     "output_type": "stream",
     "text": [
      "[Parallel(n_jobs=-1)]: Using backend ThreadingBackend with 4 concurrent workers.\n",
      "[Parallel(n_jobs=-1)]: Done  10 out of  10 | elapsed:    9.4s finished\n",
      "[Parallel(n_jobs=4)]: Using backend ThreadingBackend with 4 concurrent workers.\n",
      "[Parallel(n_jobs=4)]: Done  10 out of  10 | elapsed:    0.1s finished\n"
     ]
    },
    {
     "name": "stdout",
     "output_type": "stream",
     "text": [
      "0.9783495884346683\n"
     ]
    },
    {
     "name": "stderr",
     "output_type": "stream",
     "text": [
      "[Parallel(n_jobs=-1)]: Using backend LokyBackend with 4 concurrent workers.\n",
      "[Parallel(n_jobs=-1)]: Done  10 out of  10 | elapsed:   15.0s finished\n",
      "[Parallel(n_jobs=4)]: Using backend ThreadingBackend with 4 concurrent workers.\n",
      "[Parallel(n_jobs=4)]: Done  10 out of  10 | elapsed:    0.0s finished\n",
      "[Parallel(n_jobs=-1)]: Using backend LokyBackend with 4 concurrent workers.\n",
      "[Parallel(n_jobs=-1)]: Done  10 out of  10 | elapsed:    9.9s finished\n",
      "[Parallel(n_jobs=4)]: Using backend ThreadingBackend with 4 concurrent workers.\n",
      "[Parallel(n_jobs=4)]: Done  10 out of  10 | elapsed:    0.0s finished\n",
      "[Parallel(n_jobs=-1)]: Using backend LokyBackend with 4 concurrent workers.\n",
      "[Parallel(n_jobs=-1)]: Done  10 out of  10 | elapsed:   10.9s finished\n",
      "[Parallel(n_jobs=4)]: Using backend ThreadingBackend with 4 concurrent workers.\n",
      "[Parallel(n_jobs=4)]: Done  10 out of  10 | elapsed:    0.0s finished\n",
      "[Parallel(n_jobs=-1)]: Using backend LokyBackend with 4 concurrent workers.\n",
      "[Parallel(n_jobs=-1)]: Done  10 out of  10 | elapsed:   11.3s finished\n",
      "[Parallel(n_jobs=4)]: Using backend ThreadingBackend with 4 concurrent workers.\n",
      "[Parallel(n_jobs=4)]: Done  10 out of  10 | elapsed:    0.0s finished\n",
      "[Parallel(n_jobs=-1)]: Using backend LokyBackend with 4 concurrent workers.\n",
      "[Parallel(n_jobs=-1)]: Done  10 out of  10 | elapsed:   11.3s finished\n",
      "[Parallel(n_jobs=4)]: Using backend ThreadingBackend with 4 concurrent workers.\n",
      "[Parallel(n_jobs=4)]: Done  10 out of  10 | elapsed:    0.0s finished\n",
      "[Parallel(n_jobs=-1)]: Using backend LokyBackend with 4 concurrent workers.\n",
      "[Parallel(n_jobs=-1)]: Done  10 out of  10 | elapsed:   10.7s finished\n",
      "[Parallel(n_jobs=4)]: Using backend ThreadingBackend with 4 concurrent workers.\n",
      "[Parallel(n_jobs=4)]: Done  10 out of  10 | elapsed:    0.0s finished\n",
      "[Parallel(n_jobs=-1)]: Using backend LokyBackend with 4 concurrent workers.\n",
      "[Parallel(n_jobs=-1)]: Done  10 out of  10 | elapsed:   11.7s finished\n",
      "[Parallel(n_jobs=4)]: Using backend ThreadingBackend with 4 concurrent workers.\n",
      "[Parallel(n_jobs=4)]: Done  10 out of  10 | elapsed:    0.0s finished\n",
      "[Parallel(n_jobs=-1)]: Using backend LokyBackend with 4 concurrent workers.\n",
      "[Parallel(n_jobs=-1)]: Done  10 out of  10 | elapsed:   11.3s finished\n",
      "[Parallel(n_jobs=4)]: Using backend ThreadingBackend with 4 concurrent workers.\n",
      "[Parallel(n_jobs=4)]: Done  10 out of  10 | elapsed:    0.0s finished\n",
      "[Parallel(n_jobs=-1)]: Using backend LokyBackend with 4 concurrent workers.\n",
      "[Parallel(n_jobs=-1)]: Done  10 out of  10 | elapsed:   11.5s finished\n",
      "[Parallel(n_jobs=4)]: Using backend ThreadingBackend with 4 concurrent workers.\n",
      "[Parallel(n_jobs=4)]: Done  10 out of  10 | elapsed:    0.0s finished\n",
      "[Parallel(n_jobs=-1)]: Using backend LokyBackend with 4 concurrent workers.\n",
      "[Parallel(n_jobs=-1)]: Done  10 out of  10 | elapsed:   11.3s finished\n",
      "[Parallel(n_jobs=4)]: Using backend ThreadingBackend with 4 concurrent workers.\n",
      "[Parallel(n_jobs=4)]: Done  10 out of  10 | elapsed:    0.0s finished\n"
     ]
    }
   ],
   "source": [
    "# Run a random forest model with trainTweets1 , which is the Countvectorizer data:\n",
    "ranfrst = RandomForestClassifier(verbose=1,n_jobs=-1,n_estimators = 10) \n",
    "ModForest1 = ranfrst.fit( trainTweets1, df5[\"airline_sentiment\"] )\n",
    "modelScore= ModForest1.score( trainTweets1, df5[\"airline_sentiment\"])\n",
    "print(modelScore)\n",
    "modelCVscore= np.mean(cross_val_score(ModForest1,trainTweets1,df5[\"airline_sentiment\"],cv=10))"
   ]
  },
  {
   "cell_type": "code",
   "execution_count": 39,
   "metadata": {},
   "outputs": [
    {
     "data": {
      "text/plain": [
       "0.685966632686758"
      ]
     },
     "execution_count": 39,
     "metadata": {},
     "output_type": "execute_result"
    }
   ],
   "source": [
    "modelCVscore"
   ]
  },
  {
   "cell_type": "code",
   "execution_count": 40,
   "metadata": {},
   "outputs": [
    {
     "data": {
      "text/html": [
       "<div>\n",
       "<style scoped>\n",
       "    .dataframe tbody tr th:only-of-type {\n",
       "        vertical-align: middle;\n",
       "    }\n",
       "\n",
       "    .dataframe tbody tr th {\n",
       "        vertical-align: top;\n",
       "    }\n",
       "\n",
       "    .dataframe thead th {\n",
       "        text-align: right;\n",
       "    }\n",
       "</style>\n",
       "<table border=\"1\" class=\"dataframe\">\n",
       "  <thead>\n",
       "    <tr style=\"text-align: right;\">\n",
       "      <th></th>\n",
       "      <th>Model</th>\n",
       "      <th>Train Accuracy</th>\n",
       "      <th>Test Accuracy</th>\n",
       "    </tr>\n",
       "  </thead>\n",
       "  <tbody>\n",
       "    <tr>\n",
       "      <th>0</th>\n",
       "      <td>Random forest using CountVectorize data</td>\n",
       "      <td>0.97835</td>\n",
       "      <td>0.685967</td>\n",
       "    </tr>\n",
       "  </tbody>\n",
       "</table>\n",
       "</div>"
      ],
      "text/plain": [
       "                                     Model  Train Accuracy  Test Accuracy\n",
       "0  Random forest using CountVectorize data         0.97835       0.685967"
      ]
     },
     "execution_count": 40,
     "metadata": {},
     "output_type": "execute_result"
    }
   ],
   "source": [
    "# Creating a results dataframe so we can compare models\n",
    "resultsDf = pd.DataFrame({'Model':['Random forest using CountVectorize data'], 'Train Accuracy': modelScore,'Test Accuracy': modelCVscore})\n",
    "resultsDf \n",
    "# Note: it is not test accuracy, it is crosvalidation accuracy, but put in same columns in results dataframe for comparison"
   ]
  },
  {
   "cell_type": "code",
   "execution_count": 41,
   "metadata": {
    "scrolled": true
   },
   "outputs": [
    {
     "name": "stderr",
     "output_type": "stream",
     "text": [
      "[Parallel(n_jobs=-1)]: Using backend ThreadingBackend with 4 concurrent workers.\n",
      "[Parallel(n_jobs=-1)]: Done  42 tasks      | elapsed:    3.6s\n",
      "[Parallel(n_jobs=-1)]: Done 100 out of 100 | elapsed:    8.4s finished\n",
      "[Parallel(n_jobs=4)]: Using backend ThreadingBackend with 4 concurrent workers.\n",
      "[Parallel(n_jobs=4)]: Done  42 tasks      | elapsed:    0.2s\n",
      "[Parallel(n_jobs=4)]: Done 100 out of 100 | elapsed:    0.5s finished\n"
     ]
    },
    {
     "name": "stdout",
     "output_type": "stream",
     "text": [
      "0.9910078162827696\n"
     ]
    },
    {
     "name": "stderr",
     "output_type": "stream",
     "text": [
      "[Parallel(n_jobs=-1)]: Using backend LokyBackend with 4 concurrent workers.\n",
      "[Parallel(n_jobs=-1)]: Done  42 tasks      | elapsed:    5.9s\n",
      "[Parallel(n_jobs=-1)]: Done 100 out of 100 | elapsed:   13.6s finished\n",
      "[Parallel(n_jobs=4)]: Using backend ThreadingBackend with 4 concurrent workers.\n",
      "[Parallel(n_jobs=4)]: Done  42 tasks      | elapsed:    0.0s\n",
      "[Parallel(n_jobs=4)]: Done 100 out of 100 | elapsed:    0.0s finished\n",
      "[Parallel(n_jobs=-1)]: Using backend LokyBackend with 4 concurrent workers.\n",
      "[Parallel(n_jobs=-1)]: Done  42 tasks      | elapsed:    5.8s\n",
      "[Parallel(n_jobs=-1)]: Done 100 out of 100 | elapsed:   13.6s finished\n",
      "[Parallel(n_jobs=4)]: Using backend ThreadingBackend with 4 concurrent workers.\n",
      "[Parallel(n_jobs=4)]: Done  42 tasks      | elapsed:    0.0s\n",
      "[Parallel(n_jobs=4)]: Done 100 out of 100 | elapsed:    0.0s finished\n",
      "[Parallel(n_jobs=-1)]: Using backend LokyBackend with 4 concurrent workers.\n",
      "[Parallel(n_jobs=-1)]: Done  42 tasks      | elapsed:    5.8s\n",
      "[Parallel(n_jobs=-1)]: Done 100 out of 100 | elapsed:   13.4s finished\n",
      "[Parallel(n_jobs=4)]: Using backend ThreadingBackend with 4 concurrent workers.\n",
      "[Parallel(n_jobs=4)]: Done  42 tasks      | elapsed:    0.0s\n",
      "[Parallel(n_jobs=4)]: Done 100 out of 100 | elapsed:    0.0s finished\n",
      "[Parallel(n_jobs=-1)]: Using backend LokyBackend with 4 concurrent workers.\n",
      "[Parallel(n_jobs=-1)]: Done  42 tasks      | elapsed:    5.8s\n",
      "[Parallel(n_jobs=-1)]: Done 100 out of 100 | elapsed:   13.6s finished\n",
      "[Parallel(n_jobs=4)]: Using backend ThreadingBackend with 4 concurrent workers.\n",
      "[Parallel(n_jobs=4)]: Done  42 tasks      | elapsed:    0.0s\n",
      "[Parallel(n_jobs=4)]: Done 100 out of 100 | elapsed:    0.0s finished\n",
      "[Parallel(n_jobs=-1)]: Using backend LokyBackend with 4 concurrent workers.\n",
      "[Parallel(n_jobs=-1)]: Done  42 tasks      | elapsed:    5.8s\n",
      "[Parallel(n_jobs=-1)]: Done 100 out of 100 | elapsed:   13.5s finished\n",
      "[Parallel(n_jobs=4)]: Using backend ThreadingBackend with 4 concurrent workers.\n",
      "[Parallel(n_jobs=4)]: Done  42 tasks      | elapsed:    0.0s\n",
      "[Parallel(n_jobs=4)]: Done 100 out of 100 | elapsed:    0.0s finished\n",
      "[Parallel(n_jobs=-1)]: Using backend LokyBackend with 4 concurrent workers.\n",
      "[Parallel(n_jobs=-1)]: Done  42 tasks      | elapsed:    6.1s\n",
      "[Parallel(n_jobs=-1)]: Done 100 out of 100 | elapsed:   14.1s finished\n",
      "[Parallel(n_jobs=4)]: Using backend ThreadingBackend with 4 concurrent workers.\n",
      "[Parallel(n_jobs=4)]: Done  42 tasks      | elapsed:    0.0s\n",
      "[Parallel(n_jobs=4)]: Done 100 out of 100 | elapsed:    0.0s finished\n",
      "[Parallel(n_jobs=-1)]: Using backend LokyBackend with 4 concurrent workers.\n",
      "[Parallel(n_jobs=-1)]: Done  42 tasks      | elapsed:    6.2s\n",
      "[Parallel(n_jobs=-1)]: Done 100 out of 100 | elapsed:   14.3s finished\n",
      "[Parallel(n_jobs=4)]: Using backend ThreadingBackend with 4 concurrent workers.\n",
      "[Parallel(n_jobs=4)]: Done  42 tasks      | elapsed:    0.0s\n",
      "[Parallel(n_jobs=4)]: Done 100 out of 100 | elapsed:    0.0s finished\n",
      "[Parallel(n_jobs=-1)]: Using backend LokyBackend with 4 concurrent workers.\n",
      "[Parallel(n_jobs=-1)]: Done  42 tasks      | elapsed:    5.8s\n",
      "[Parallel(n_jobs=-1)]: Done 100 out of 100 | elapsed:   13.7s finished\n",
      "[Parallel(n_jobs=4)]: Using backend ThreadingBackend with 4 concurrent workers.\n",
      "[Parallel(n_jobs=4)]: Done  42 tasks      | elapsed:    0.0s\n",
      "[Parallel(n_jobs=4)]: Done 100 out of 100 | elapsed:    0.0s finished\n",
      "[Parallel(n_jobs=-1)]: Using backend LokyBackend with 4 concurrent workers.\n",
      "[Parallel(n_jobs=-1)]: Done  42 tasks      | elapsed:    5.6s\n",
      "[Parallel(n_jobs=-1)]: Done 100 out of 100 | elapsed:   13.2s finished\n",
      "[Parallel(n_jobs=4)]: Using backend ThreadingBackend with 4 concurrent workers.\n",
      "[Parallel(n_jobs=4)]: Done  42 tasks      | elapsed:    0.0s\n",
      "[Parallel(n_jobs=4)]: Done 100 out of 100 | elapsed:    0.0s finished\n",
      "[Parallel(n_jobs=-1)]: Using backend LokyBackend with 4 concurrent workers.\n",
      "[Parallel(n_jobs=-1)]: Done  42 tasks      | elapsed:    5.7s\n",
      "[Parallel(n_jobs=-1)]: Done 100 out of 100 | elapsed:   13.4s finished\n",
      "[Parallel(n_jobs=4)]: Using backend ThreadingBackend with 4 concurrent workers.\n",
      "[Parallel(n_jobs=4)]: Done  42 tasks      | elapsed:    0.0s\n",
      "[Parallel(n_jobs=4)]: Done 100 out of 100 | elapsed:    0.0s finished\n"
     ]
    }
   ],
   "source": [
    "# runing random forest with TF-DIF vectorized data\n",
    "ranfrst = RandomForestClassifier(verbose=1,n_jobs=-1,n_estimators = 100) \n",
    "ModForest1 = ranfrst.fit( trainTweets2, df5[\"airline_sentiment\"] )\n",
    "modelScore= ModForest1.score( trainTweets2, df5[\"airline_sentiment\"])\n",
    "print(modelScore)\n",
    "modelCVscore=np.mean(cross_val_score(ModForest1,trainTweets2,df5[\"airline_sentiment\"],cv=10, verbose=0))"
   ]
  },
  {
   "cell_type": "code",
   "execution_count": 42,
   "metadata": {},
   "outputs": [
    {
     "data": {
      "text/html": [
       "<div>\n",
       "<style scoped>\n",
       "    .dataframe tbody tr th:only-of-type {\n",
       "        vertical-align: middle;\n",
       "    }\n",
       "\n",
       "    .dataframe tbody tr th {\n",
       "        vertical-align: top;\n",
       "    }\n",
       "\n",
       "    .dataframe thead th {\n",
       "        text-align: right;\n",
       "    }\n",
       "</style>\n",
       "<table border=\"1\" class=\"dataframe\">\n",
       "  <thead>\n",
       "    <tr style=\"text-align: right;\">\n",
       "      <th></th>\n",
       "      <th>Model</th>\n",
       "      <th>Train Accuracy</th>\n",
       "      <th>Test Accuracy</th>\n",
       "    </tr>\n",
       "  </thead>\n",
       "  <tbody>\n",
       "    <tr>\n",
       "      <th>0</th>\n",
       "      <td>Random forest using CountVectorize data</td>\n",
       "      <td>0.978350</td>\n",
       "      <td>0.685967</td>\n",
       "    </tr>\n",
       "    <tr>\n",
       "      <th>0</th>\n",
       "      <td>Random forest using TF-IDF Vectorize data</td>\n",
       "      <td>0.991008</td>\n",
       "      <td>0.707821</td>\n",
       "    </tr>\n",
       "  </tbody>\n",
       "</table>\n",
       "</div>"
      ],
      "text/plain": [
       "                                       Model  Train Accuracy  Test Accuracy\n",
       "0    Random forest using CountVectorize data        0.978350       0.685967\n",
       "0  Random forest using TF-IDF Vectorize data        0.991008       0.707821"
      ]
     },
     "execution_count": 42,
     "metadata": {},
     "output_type": "execute_result"
    }
   ],
   "source": [
    "tempResultsDf = pd.DataFrame({'Model':['Random forest using TF-IDF Vectorize data'], 'Train Accuracy': modelScore,'Test Accuracy': modelCVscore})\n",
    "resultsDf = pd.concat([resultsDf, tempResultsDf])\n",
    "resultsDf # updating the results dataframe"
   ]
  },
  {
   "cell_type": "markdown",
   "metadata": {},
   "source": [
    "TF-IDF vectorizing yields slightly better results"
   ]
  },
  {
   "cell_type": "code",
   "execution_count": 43,
   "metadata": {},
   "outputs": [
    {
     "name": "stdout",
     "output_type": "stream",
     "text": [
      "2.0.0\n"
     ]
    }
   ],
   "source": [
    "#  Adding more libraries to be able to run the Artificial Neural Network\n",
    "import tensorflow as tf     # Import Tensorflow to create the Neural Network model\n",
    "print(tf.__version__)\n",
    "# Import additional libraries:\n",
    "from tensorflow.keras.models import Model,Sequential\n",
    "from tensorflow.keras.layers import Dense, Input, Dropout, Activation\n",
    "from tensorflow.keras.metrics import Recall, Accuracy\n",
    "from sklearn.metrics import (accuracy_score, f1_score, recall_score, roc_auc_score, )\n",
    "from tensorflow.keras import optimizers\n",
    "from tensorflow.keras import utils"
   ]
  },
  {
   "cell_type": "code",
   "execution_count": 44,
   "metadata": {},
   "outputs": [
    {
     "data": {
      "text/plain": [
       "<tensorflow.python.keras.callbacks.History at 0x1cf6c797048>"
      ]
     },
     "execution_count": 44,
     "metadata": {},
     "output_type": "execute_result"
    }
   ],
   "source": [
    "# First pass of the Neural Network for the CountVectorized data\n",
    "model = Sequential()  \n",
    "model.add(Dense(50, activation='relu', input_dim=X1_train.shape[1]))\n",
    "model.add(Dropout(0.5))\n",
    "model.add(Dense(20, activation = 'tanh'))\n",
    "model.add(Dropout(0.5))\n",
    "model.add(Dense(20, activation = 'tanh'))\n",
    "model.add(Dense(3, activation='softmax'))\n",
    "model.compile(optimizer=optimizers.Adam(lr=0.002,),loss='categorical_crossentropy',metrics=['accuracy'])\n",
    "model.fit(X1_train, y1_train , batch_size = 15000, epochs = 60, verbose=0)   # Run the Network"
   ]
  },
  {
   "cell_type": "code",
   "execution_count": 45,
   "metadata": {},
   "outputs": [
    {
     "data": {
      "text/html": [
       "<div>\n",
       "<style scoped>\n",
       "    .dataframe tbody tr th:only-of-type {\n",
       "        vertical-align: middle;\n",
       "    }\n",
       "\n",
       "    .dataframe tbody tr th {\n",
       "        vertical-align: top;\n",
       "    }\n",
       "\n",
       "    .dataframe thead th {\n",
       "        text-align: right;\n",
       "    }\n",
       "</style>\n",
       "<table border=\"1\" class=\"dataframe\">\n",
       "  <thead>\n",
       "    <tr style=\"text-align: right;\">\n",
       "      <th></th>\n",
       "      <th>Model</th>\n",
       "      <th>Train Accuracy</th>\n",
       "      <th>Test Accuracy</th>\n",
       "    </tr>\n",
       "  </thead>\n",
       "  <tbody>\n",
       "    <tr>\n",
       "      <th>0</th>\n",
       "      <td>Random forest using CountVectorize data</td>\n",
       "      <td>0.978350</td>\n",
       "      <td>0.685967</td>\n",
       "    </tr>\n",
       "    <tr>\n",
       "      <th>0</th>\n",
       "      <td>Random forest using TF-IDF Vectorize data</td>\n",
       "      <td>0.991008</td>\n",
       "      <td>0.707821</td>\n",
       "    </tr>\n",
       "    <tr>\n",
       "      <th>0</th>\n",
       "      <td>DNeural Network using CountVectorize data</td>\n",
       "      <td>0.948292</td>\n",
       "      <td>0.768326</td>\n",
       "    </tr>\n",
       "  </tbody>\n",
       "</table>\n",
       "</div>"
      ],
      "text/plain": [
       "                                       Model  Train Accuracy  Test Accuracy\n",
       "0    Random forest using CountVectorize data        0.978350       0.685967\n",
       "0  Random forest using TF-IDF Vectorize data        0.991008       0.707821\n",
       "0  DNeural Network using CountVectorize data        0.948292       0.768326"
      ]
     },
     "execution_count": 45,
     "metadata": {},
     "output_type": "execute_result"
    }
   ],
   "source": [
    "RTR= model.evaluate(X1_train, y1_train,verbose=0)  # Evaluate on train set\n",
    "RTS= model.evaluate(X1_test, y1_test,verbose=0) # Evaluate on test set\n",
    "tempResultsDf = pd.DataFrame({'Model':['DNeural Network using CountVectorize data'], 'Train Accuracy': RTR[1],'Test Accuracy': RTS[1]})\n",
    "resultsDf = pd.concat([resultsDf, tempResultsDf])\n",
    "resultsDf  # updating the results dataframe"
   ]
  },
  {
   "cell_type": "markdown",
   "metadata": {
    "scrolled": true
   },
   "source": [
    "With Neural Network we get better results and less overfit"
   ]
  },
  {
   "cell_type": "code",
   "execution_count": 46,
   "metadata": {
    "scrolled": true
   },
   "outputs": [
    {
     "name": "stdout",
     "output_type": "stream",
     "text": [
      "WARNING:tensorflow:Falling back from v2 loop because of error: Failed to find data adapter that can handle input: <class 'scipy.sparse.csr.csr_matrix'>, <class 'NoneType'>\n"
     ]
    },
    {
     "data": {
      "text/plain": [
       "<tensorflow.python.keras.callbacks.History at 0x1cf7d064888>"
      ]
     },
     "execution_count": 46,
     "metadata": {},
     "output_type": "execute_result"
    }
   ],
   "source": [
    "# second pass for the TF-IDF vectorized data\n",
    "model = Sequential()\n",
    "model.add(Dense(50, activation='relu',  input_dim=X2_train.shape[1]))\n",
    "model.add(Dropout(0.5))\n",
    "model.add(Dense(20, activation = 'tanh'))\n",
    "model.add(Dropout(0.5))\n",
    "model.add(Dense(20, activation = 'tanh'))\n",
    "model.add(Dense(3, activation='softmax'))\n",
    "model.compile(optimizer=optimizers.Adam(lr=0.002,),loss='categorical_crossentropy',metrics=['accuracy'])\n",
    "model.fit(X2_train, y2_train , batch_size = 15000, epochs = 60, verbose=0)   # Run the Network"
   ]
  },
  {
   "cell_type": "code",
   "execution_count": 47,
   "metadata": {},
   "outputs": [
    {
     "name": "stdout",
     "output_type": "stream",
     "text": [
      "WARNING:tensorflow:Falling back from v2 loop because of error: Failed to find data adapter that can handle input: <class 'scipy.sparse.csr.csr_matrix'>, <class 'NoneType'>\n",
      "WARNING:tensorflow:Falling back from v2 loop because of error: Failed to find data adapter that can handle input: <class 'scipy.sparse.csr.csr_matrix'>, <class 'NoneType'>\n"
     ]
    }
   ],
   "source": [
    "RTR= model.evaluate(X2_train, y2_train,verbose=0)  # Evaluate on train set\n",
    "RTS= model.evaluate(X2_test, y2_test,verbose=0)  # Evaluate on test set\n",
    "tempResultsDf = pd.DataFrame({'Model':['DNeural Network using TF-IDFVectorize data'], 'Train Accuracy': RTR[1],'Test Accuracy': RTS[1]})\n",
    "resultsDf = pd.concat([resultsDf, tempResultsDf])  # updating the results dataframe"
   ]
  },
  {
   "cell_type": "markdown",
   "metadata": {},
   "source": [
    "### 6. Summarize your understanding of the application of Various Pre-processing and Vectorization and performance of your model on this dataset. (8 Marks)"
   ]
  },
  {
   "cell_type": "code",
   "execution_count": 48,
   "metadata": {},
   "outputs": [
    {
     "data": {
      "text/html": [
       "<div>\n",
       "<style scoped>\n",
       "    .dataframe tbody tr th:only-of-type {\n",
       "        vertical-align: middle;\n",
       "    }\n",
       "\n",
       "    .dataframe tbody tr th {\n",
       "        vertical-align: top;\n",
       "    }\n",
       "\n",
       "    .dataframe thead th {\n",
       "        text-align: right;\n",
       "    }\n",
       "</style>\n",
       "<table border=\"1\" class=\"dataframe\">\n",
       "  <thead>\n",
       "    <tr style=\"text-align: right;\">\n",
       "      <th></th>\n",
       "      <th>Model</th>\n",
       "      <th>Train Accuracy</th>\n",
       "      <th>Test Accuracy</th>\n",
       "    </tr>\n",
       "  </thead>\n",
       "  <tbody>\n",
       "    <tr>\n",
       "      <th>0</th>\n",
       "      <td>Random forest using CountVectorize data</td>\n",
       "      <td>0.978350</td>\n",
       "      <td>0.685967</td>\n",
       "    </tr>\n",
       "    <tr>\n",
       "      <th>0</th>\n",
       "      <td>Random forest using TF-IDF Vectorize data</td>\n",
       "      <td>0.991008</td>\n",
       "      <td>0.707821</td>\n",
       "    </tr>\n",
       "    <tr>\n",
       "      <th>0</th>\n",
       "      <td>DNeural Network using CountVectorize data</td>\n",
       "      <td>0.948292</td>\n",
       "      <td>0.768326</td>\n",
       "    </tr>\n",
       "    <tr>\n",
       "      <th>0</th>\n",
       "      <td>DNeural Network using TF-IDFVectorize data</td>\n",
       "      <td>0.936360</td>\n",
       "      <td>0.765906</td>\n",
       "    </tr>\n",
       "  </tbody>\n",
       "</table>\n",
       "</div>"
      ],
      "text/plain": [
       "                                        Model  Train Accuracy  Test Accuracy\n",
       "0     Random forest using CountVectorize data        0.978350       0.685967\n",
       "0   Random forest using TF-IDF Vectorize data        0.991008       0.707821\n",
       "0   DNeural Network using CountVectorize data        0.948292       0.768326\n",
       "0  DNeural Network using TF-IDFVectorize data        0.936360       0.765906"
      ]
     },
     "execution_count": 48,
     "metadata": {},
     "output_type": "execute_result"
    }
   ],
   "source": [
    "# obtaining final Results df:\n",
    "resultsDf"
   ]
  },
  {
   "cell_type": "markdown",
   "metadata": {},
   "source": [
    "#### CONCLUSION: \n",
    "Preprocessing do enables the Natural Language processing, doing the cleanning and preparation of the sentenses by removing html tags, special characters, numbers, stopwords, tokenization, convertion to lower case and (in this case) lemmatizing or stemming is fast and somehow standard. Pre-processing standarizes the data, although we need to be carefull not to delete some important words, and linguistics features. In my case preprocesing also removed tweets that were not in english, but we could work with several languages instead. Unbalanced data is also an issue, but sampling technics could improve the outcome. One important step not to forget, is to get the data in the form of a list, as the vectorization cannot be used directly from a dataframe column. CountVectorizing vs. TF-IDF Vectorizing selection will depend on the particular data and the model to be used: the difference was noticeable for the Randon Forest model, but not significant among neural networks, maybe different results could be obtained with RNN, at least for this dataset. Selecting the right type of model will depend on the size of the text and the computing power available.\n",
    "\n",
    "Main takeaway is that: NLP with Random Forest models, is not necessarily faster than neural networks, but they are easier to implement and can yield similar results (lower though not too distant) to those with the ANN.\n"
   ]
  }
 ],
 "metadata": {
  "kernelspec": {
   "display_name": "Python 3",
   "language": "python",
   "name": "python3"
  },
  "language_info": {
   "codemirror_mode": {
    "name": "ipython",
    "version": 3
   },
   "file_extension": ".py",
   "mimetype": "text/x-python",
   "name": "python",
   "nbconvert_exporter": "python",
   "pygments_lexer": "ipython3",
   "version": "3.7.6"
  }
 },
 "nbformat": 4,
 "nbformat_minor": 4
}
